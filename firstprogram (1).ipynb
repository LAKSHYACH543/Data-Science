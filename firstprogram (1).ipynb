{
 "cells": [
  {
   "cell_type": "code",
   "execution_count": 1,
   "id": "fc5cd79e-429e-4a29-9d52-3378511c343f",
   "metadata": {},
   "outputs": [
    {
     "name": "stdout",
     "output_type": "stream",
     "text": [
      "hello data science\n"
     ]
    }
   ],
   "source": [
    "print(\"hello data science\")"
   ]
  },
  {
   "cell_type": "code",
   "execution_count": 2,
   "id": "123ac6e9-ae16-4d58-adb6-9b5a40fb0485",
   "metadata": {},
   "outputs": [
    {
     "name": "stdout",
     "output_type": "stream",
     "text": [
      "Lakshya Choudhary\n"
     ]
    }
   ],
   "source": [
    "print(\"Lakshya Choudhary\")"
   ]
  },
  {
   "cell_type": "code",
   "execution_count": 7,
   "id": "59f6a3c7-2827-45be-85ec-5a5dcc0ad1dc",
   "metadata": {},
   "outputs": [
    {
     "name": "stdout",
     "output_type": "stream",
     "text": [
      "25\n"
     ]
    }
   ],
   "source": [
    "print(10+15)"
   ]
  },
  {
   "cell_type": "code",
   "execution_count": null,
   "id": "5186bbdd-86bb-443e-9439-93038f6b7594",
   "metadata": {},
   "outputs": [],
   "source": []
  }
 ],
 "metadata": {
  "kernelspec": {
   "display_name": "Python 3 (ipykernel)",
   "language": "python",
   "name": "python3"
  },
  "language_info": {
   "codemirror_mode": {
    "name": "ipython",
    "version": 3
   },
   "file_extension": ".py",
   "mimetype": "text/x-python",
   "name": "python",
   "nbconvert_exporter": "python",
   "pygments_lexer": "ipython3",
   "version": "3.13.5"
  }
 },
 "nbformat": 4,
 "nbformat_minor": 5
}
